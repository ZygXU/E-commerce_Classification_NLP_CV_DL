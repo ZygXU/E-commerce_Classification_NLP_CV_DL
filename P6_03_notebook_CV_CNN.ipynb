{
 "cells": [
  {
   "cell_type": "code",
   "execution_count": 1,
   "id": "functional-bahamas",
   "metadata": {},
   "outputs": [],
   "source": [
    "import pandas as pd\n",
    "import cv2\n",
    "import os\n",
    "import matplotlib.pyplot as plt\n",
    "import numpy as np\n",
    "import time\n",
    "from sklearn.cluster import MiniBatchKMeans, KMeans\n",
    "import pickle\n",
    "import plotly.express as px\n",
    "from sklearn import preprocessing\n",
    "import matplotlib.image as mpimg\n",
    "from sklearn import preprocessing\n",
    "from sklearn.model_selection import train_test_split\n",
    "\n",
    "#from keras.utils import to_categorical\n",
    "from keras.utils.np_utils import to_categorical\n",
    "import tensorflow as tf\n",
    "from keras.callbacks import ReduceLROnPlateau,EarlyStopping, ModelCheckpoint\n",
    "from keras.preprocessing.image import ImageDataGenerator\n",
    "\n",
    "from keras.applications.vgg16 import VGG16\n",
    "from keras.applications.vgg19 import VGG19\n",
    "from tensorflow.keras.applications.resnet50 import ResNet50, preprocess_input, decode_predictions\n",
    "from tensorflow.keras.applications.xception import Xception\n",
    "\n",
    "from keras.models import Model\n",
    "from keras import Sequential\n",
    "from keras.layers import Flatten,Dense, Dropout\n",
    "from keras.optimizers import SGD,Adam"
   ]
  },
  {
   "cell_type": "code",
   "execution_count": 2,
   "id": "moving-asset",
   "metadata": {},
   "outputs": [
    {
     "name": "stdout",
     "output_type": "stream",
     "text": [
      "Num GPUs Available:  1\n"
     ]
    }
   ],
   "source": [
    "print(\"Num GPUs Available: \", len(tf.config.list_physical_devices('GPU')))"
   ]
  },
  {
   "cell_type": "markdown",
   "id": "seventh-dubai",
   "metadata": {},
   "source": [
    "#### Load df"
   ]
  },
  {
   "cell_type": "code",
   "execution_count": 3,
   "id": "thick-label",
   "metadata": {},
   "outputs": [
    {
     "data": {
      "text/plain": [
       "0       55b85ea15a1536d46b7190ad6fff8ce7.jpg\n",
       "1       7b72c92c2f6c40268628ec5f14c6d590.jpg\n",
       "2       64d5d4a258243731dc7bbb1eef49ad74.jpg\n",
       "3       d4684dcdc759dd9cdf41504698d737d8.jpg\n",
       "4       6325b6870c54cd47be6ebfbffa620ec7.jpg\n",
       "                        ...                 \n",
       "1045    958f54f4c46b53c8a0a9b8167d9140bc.jpg\n",
       "1046    fd6cbcc22efb6b761bd564c28928483c.jpg\n",
       "1047    5912e037d12774bb73a2048f35a00009.jpg\n",
       "1048    c3edc504d1b4f0ba6224fa53a43a7ad6.jpg\n",
       "1049    f2f027ad6a6df617c9f125173da71e44.jpg\n",
       "Name: image, Length: 1050, dtype: object"
      ]
     },
     "execution_count": 3,
     "metadata": {},
     "output_type": "execute_result"
    }
   ],
   "source": [
    "df=pd.read_pickle(\"dataframe.pkl\")\n",
    "df.image"
   ]
  },
  {
   "cell_type": "code",
   "execution_count": 4,
   "id": "compound-detector",
   "metadata": {},
   "outputs": [
    {
     "data": {
      "text/html": [
       "<div>\n",
       "<style scoped>\n",
       "    .dataframe tbody tr th:only-of-type {\n",
       "        vertical-align: middle;\n",
       "    }\n",
       "\n",
       "    .dataframe tbody tr th {\n",
       "        vertical-align: top;\n",
       "    }\n",
       "\n",
       "    .dataframe thead th {\n",
       "        text-align: right;\n",
       "    }\n",
       "</style>\n",
       "<table border=\"1\" class=\"dataframe\">\n",
       "  <thead>\n",
       "    <tr style=\"text-align: right;\">\n",
       "      <th></th>\n",
       "      <th>product_name</th>\n",
       "      <th>product_category_tree</th>\n",
       "      <th>image</th>\n",
       "      <th>description</th>\n",
       "    </tr>\n",
       "  </thead>\n",
       "  <tbody>\n",
       "    <tr>\n",
       "      <th>0</th>\n",
       "      <td>Elegance Polyester Multicolor Abstract Eyelet ...</td>\n",
       "      <td>Home Furnishing</td>\n",
       "      <td>55b85ea15a1536d46b7190ad6fff8ce7.jpg</td>\n",
       "      <td>Key Features of Elegance Polyester Multicolor ...</td>\n",
       "    </tr>\n",
       "    <tr>\n",
       "      <th>1</th>\n",
       "      <td>Sathiyas Cotton Bath Towel</td>\n",
       "      <td>Baby Care</td>\n",
       "      <td>7b72c92c2f6c40268628ec5f14c6d590.jpg</td>\n",
       "      <td>Specifications of Sathiyas Cotton Bath Towel (...</td>\n",
       "    </tr>\n",
       "    <tr>\n",
       "      <th>2</th>\n",
       "      <td>Eurospa Cotton Terry Face Towel Set</td>\n",
       "      <td>Baby Care</td>\n",
       "      <td>64d5d4a258243731dc7bbb1eef49ad74.jpg</td>\n",
       "      <td>Key Features of Eurospa Cotton Terry Face Towe...</td>\n",
       "    </tr>\n",
       "    <tr>\n",
       "      <th>3</th>\n",
       "      <td>SANTOSH ROYAL FASHION Cotton Printed King size...</td>\n",
       "      <td>Home Furnishing</td>\n",
       "      <td>d4684dcdc759dd9cdf41504698d737d8.jpg</td>\n",
       "      <td>Key Features of SANTOSH ROYAL FASHION Cotton P...</td>\n",
       "    </tr>\n",
       "    <tr>\n",
       "      <th>4</th>\n",
       "      <td>Jaipur Print Cotton Floral King sized Double B...</td>\n",
       "      <td>Home Furnishing</td>\n",
       "      <td>6325b6870c54cd47be6ebfbffa620ec7.jpg</td>\n",
       "      <td>Key Features of Jaipur Print Cotton Floral Kin...</td>\n",
       "    </tr>\n",
       "    <tr>\n",
       "      <th>...</th>\n",
       "      <td>...</td>\n",
       "      <td>...</td>\n",
       "      <td>...</td>\n",
       "      <td>...</td>\n",
       "    </tr>\n",
       "    <tr>\n",
       "      <th>1045</th>\n",
       "      <td>Oren Empower Extra Large Self Adhesive Sticker</td>\n",
       "      <td>Baby Care</td>\n",
       "      <td>958f54f4c46b53c8a0a9b8167d9140bc.jpg</td>\n",
       "      <td>Oren Empower Extra Large Self Adhesive Sticker...</td>\n",
       "    </tr>\n",
       "    <tr>\n",
       "      <th>1046</th>\n",
       "      <td>Wallmantra Large Vinyl Sticker Sticker</td>\n",
       "      <td>Baby Care</td>\n",
       "      <td>fd6cbcc22efb6b761bd564c28928483c.jpg</td>\n",
       "      <td>Wallmantra Large Vinyl Sticker Sticker (Pack o...</td>\n",
       "    </tr>\n",
       "    <tr>\n",
       "      <th>1047</th>\n",
       "      <td>Uberlyfe Extra Large Pigmented Polyvinyl Films...</td>\n",
       "      <td>Baby Care</td>\n",
       "      <td>5912e037d12774bb73a2048f35a00009.jpg</td>\n",
       "      <td>Buy Uberlyfe Extra Large Pigmented Polyvinyl F...</td>\n",
       "    </tr>\n",
       "    <tr>\n",
       "      <th>1048</th>\n",
       "      <td>Wallmantra Medium Vinyl Sticker Sticker</td>\n",
       "      <td>Baby Care</td>\n",
       "      <td>c3edc504d1b4f0ba6224fa53a43a7ad6.jpg</td>\n",
       "      <td>Buy Wallmantra Medium Vinyl Sticker Sticker fo...</td>\n",
       "    </tr>\n",
       "    <tr>\n",
       "      <th>1049</th>\n",
       "      <td>Uberlyfe Large Vinyl Sticker</td>\n",
       "      <td>Baby Care</td>\n",
       "      <td>f2f027ad6a6df617c9f125173da71e44.jpg</td>\n",
       "      <td>Buy Uberlyfe Large Vinyl Sticker for Rs.595 on...</td>\n",
       "    </tr>\n",
       "  </tbody>\n",
       "</table>\n",
       "<p>1050 rows × 4 columns</p>\n",
       "</div>"
      ],
      "text/plain": [
       "                                           product_name product_category_tree  \\\n",
       "0     Elegance Polyester Multicolor Abstract Eyelet ...       Home Furnishing   \n",
       "1                            Sathiyas Cotton Bath Towel             Baby Care   \n",
       "2                   Eurospa Cotton Terry Face Towel Set             Baby Care   \n",
       "3     SANTOSH ROYAL FASHION Cotton Printed King size...       Home Furnishing   \n",
       "4     Jaipur Print Cotton Floral King sized Double B...       Home Furnishing   \n",
       "...                                                 ...                   ...   \n",
       "1045     Oren Empower Extra Large Self Adhesive Sticker             Baby Care   \n",
       "1046             Wallmantra Large Vinyl Sticker Sticker             Baby Care   \n",
       "1047  Uberlyfe Extra Large Pigmented Polyvinyl Films...             Baby Care   \n",
       "1048            Wallmantra Medium Vinyl Sticker Sticker             Baby Care   \n",
       "1049                       Uberlyfe Large Vinyl Sticker             Baby Care   \n",
       "\n",
       "                                     image  \\\n",
       "0     55b85ea15a1536d46b7190ad6fff8ce7.jpg   \n",
       "1     7b72c92c2f6c40268628ec5f14c6d590.jpg   \n",
       "2     64d5d4a258243731dc7bbb1eef49ad74.jpg   \n",
       "3     d4684dcdc759dd9cdf41504698d737d8.jpg   \n",
       "4     6325b6870c54cd47be6ebfbffa620ec7.jpg   \n",
       "...                                    ...   \n",
       "1045  958f54f4c46b53c8a0a9b8167d9140bc.jpg   \n",
       "1046  fd6cbcc22efb6b761bd564c28928483c.jpg   \n",
       "1047  5912e037d12774bb73a2048f35a00009.jpg   \n",
       "1048  c3edc504d1b4f0ba6224fa53a43a7ad6.jpg   \n",
       "1049  f2f027ad6a6df617c9f125173da71e44.jpg   \n",
       "\n",
       "                                            description  \n",
       "0     Key Features of Elegance Polyester Multicolor ...  \n",
       "1     Specifications of Sathiyas Cotton Bath Towel (...  \n",
       "2     Key Features of Eurospa Cotton Terry Face Towe...  \n",
       "3     Key Features of SANTOSH ROYAL FASHION Cotton P...  \n",
       "4     Key Features of Jaipur Print Cotton Floral Kin...  \n",
       "...                                                 ...  \n",
       "1045  Oren Empower Extra Large Self Adhesive Sticker...  \n",
       "1046  Wallmantra Large Vinyl Sticker Sticker (Pack o...  \n",
       "1047  Buy Uberlyfe Extra Large Pigmented Polyvinyl F...  \n",
       "1048  Buy Wallmantra Medium Vinyl Sticker Sticker fo...  \n",
       "1049  Buy Uberlyfe Large Vinyl Sticker for Rs.595 on...  \n",
       "\n",
       "[1050 rows x 4 columns]"
      ]
     },
     "execution_count": 4,
     "metadata": {},
     "output_type": "execute_result"
    }
   ],
   "source": [
    "df"
   ]
  },
  {
   "cell_type": "markdown",
   "id": "liquid-lease",
   "metadata": {},
   "source": [
    "#### Load image and resize\n",
    "- get 128x128 size"
   ]
  },
  {
   "cell_type": "code",
   "execution_count": 5,
   "id": "owned-leave",
   "metadata": {},
   "outputs": [
    {
     "name": "stderr",
     "output_type": "stream",
     "text": [
      "C:\\Users\\Sirzesx\\anaconda3\\lib\\site-packages\\PIL\\Image.py:2855: DecompressionBombWarning: Image size (93680328 pixels) exceeds limit of 89478485 pixels, could be decompression bomb DOS attack.\n",
      "  warnings.warn(\n"
     ]
    }
   ],
   "source": [
    "from PIL import Image\n",
    "list_img=[]\n",
    "for i in range(0,df.shape[0]):\n",
    "    #FILENAME='Images/'+df.image[i]\n",
    "    #open Image + resize\n",
    "    img = Image.open('Images/'+df.image[i]).resize((128, 128), Image.ANTIALIAS)\n",
    "    #create img array matrix\n",
    "    list_img.append(np.array(img))\n"
   ]
  },
  {
   "cell_type": "markdown",
   "id": "technological-parade",
   "metadata": {},
   "source": [
    "#### Encoder Label"
   ]
  },
  {
   "cell_type": "code",
   "execution_count": 6,
   "id": "hybrid-favor",
   "metadata": {},
   "outputs": [],
   "source": [
    "le = preprocessing.LabelEncoder()"
   ]
  },
  {
   "cell_type": "code",
   "execution_count": 7,
   "id": "iraqi-recording",
   "metadata": {},
   "outputs": [],
   "source": [
    "d = {'image': list_img, 'label': le.fit_transform(df.product_category_tree) }\n",
    "df_img = pd.DataFrame(data=d)"
   ]
  },
  {
   "cell_type": "code",
   "execution_count": 8,
   "id": "manual-dealer",
   "metadata": {},
   "outputs": [
    {
     "data": {
      "text/plain": [
       "(1050, 7)"
      ]
     },
     "execution_count": 8,
     "metadata": {},
     "output_type": "execute_result"
    }
   ],
   "source": [
    "cat_label=to_categorical(df_img.label, num_classes=7)\n",
    "cat_label.shape"
   ]
  },
  {
   "cell_type": "markdown",
   "id": "spare-alliance",
   "metadata": {},
   "source": [
    "#### Create train, test, validation set"
   ]
  },
  {
   "cell_type": "code",
   "execution_count": 9,
   "id": "passing-fifteen",
   "metadata": {},
   "outputs": [],
   "source": [
    "x_train, x_test, y_train, y_test = train_test_split(df_img.image,cat_label, test_size=0.2)"
   ]
  },
  {
   "cell_type": "code",
   "execution_count": 10,
   "id": "covered-syntax",
   "metadata": {},
   "outputs": [],
   "source": [
    "x_train, x_validation, y_train, y_validation = train_test_split(x_train,y_train, test_size=0.1)"
   ]
  },
  {
   "cell_type": "markdown",
   "id": "ranging-nurse",
   "metadata": {},
   "source": [
    "#### Define basic Resnet50 Model"
   ]
  },
  {
   "cell_type": "code",
   "execution_count": 11,
   "id": "pediatric-possible",
   "metadata": {},
   "outputs": [],
   "source": [
    "#Defining the VGG Convolutional Neural Net\n",
    "base_model = ResNet50(include_top = False, weights = 'imagenet', input_shape = (128, 128,3), classes = y_train.shape[1])"
   ]
  },
  {
   "cell_type": "markdown",
   "id": "freelance-rendering",
   "metadata": {},
   "source": [
    "#### Modify basic Resnet50 to adapt in our situation"
   ]
  },
  {
   "cell_type": "code",
   "execution_count": 12,
   "id": "encouraging-australian",
   "metadata": {},
   "outputs": [],
   "source": [
    "#Adding the final layers to the above base models where the actual classification is done in the dense layers\n",
    "model= Sequential()\n",
    "model.add(base_model) \n",
    "model.add(Flatten()) "
   ]
  },
  {
   "cell_type": "code",
   "execution_count": 13,
   "id": "express-witness",
   "metadata": {},
   "outputs": [],
   "source": [
    "#Adding the Dense layers along with activation and batch normalization\n",
    "model.add(Dense(512,activation=('relu'),input_dim=512))\n",
    "#model.add(Dropout(.6))\n",
    "model.add(Dense(256,activation=('relu'))) \n",
    "model.add(Dropout(.6))\n",
    "model.add(Dense(128,activation=('relu')))\n",
    "model.add(Dropout(.5))\n",
    "model.add(Dense(7,activation=('softmax')))"
   ]
  },
  {
   "cell_type": "code",
   "execution_count": 14,
   "id": "identified-consumer",
   "metadata": {},
   "outputs": [],
   "source": [
    "#model.summary()"
   ]
  },
  {
   "cell_type": "markdown",
   "id": "typical-liabilities",
   "metadata": {},
   "source": [
    "#### Change shape format to adapt image processus for transfer learning"
   ]
  },
  {
   "cell_type": "code",
   "execution_count": 15,
   "id": "finite-constraint",
   "metadata": {},
   "outputs": [
    {
     "name": "stdout",
     "output_type": "stream",
     "text": [
      "((756,), (756, 7))\n",
      "((84,), (84, 7))\n",
      "((210,), (210, 7))\n"
     ]
    }
   ],
   "source": [
    "print((x_train.shape,y_train.shape))\n",
    "print((x_validation.shape,y_validation.shape))\n",
    "print((x_test.shape,y_test.shape))"
   ]
  },
  {
   "cell_type": "code",
   "execution_count": 16,
   "id": "colonial-western",
   "metadata": {},
   "outputs": [],
   "source": [
    "x_train=np.stack([x_train[x_train.index[i]] for i in range(x_train.shape[0])], axis=0)\n",
    "x_validation=np.stack([x_validation[x_validation.index[i]] for i in range(x_validation.shape[0])], axis=0)\n",
    "x_test=np.stack([x_test[x_test.index[i]] for i in range(x_test.shape[0])], axis=0)"
   ]
  },
  {
   "cell_type": "code",
   "execution_count": 17,
   "id": "dirty-charger",
   "metadata": {},
   "outputs": [
    {
     "name": "stdout",
     "output_type": "stream",
     "text": [
      "((756, 128, 128, 3), (756, 7))\n",
      "((84, 128, 128, 3), (84, 7))\n",
      "((210, 128, 128, 3), (210, 7))\n"
     ]
    }
   ],
   "source": [
    "print((x_train.shape,y_train.shape))\n",
    "print((x_validation.shape,y_validation.shape))\n",
    "print((x_test.shape,y_test.shape))"
   ]
  },
  {
   "cell_type": "markdown",
   "id": "distributed-satisfaction",
   "metadata": {},
   "source": [
    "#### Augmentation Image"
   ]
  },
  {
   "cell_type": "code",
   "execution_count": 18,
   "id": "legal-facility",
   "metadata": {},
   "outputs": [],
   "source": [
    "#Image Data Augmentation\n",
    "train_generator = ImageDataGenerator(rotation_range=2, horizontal_flip=True, zoom_range=.1)\n",
    "val_generator = ImageDataGenerator(rotation_range=2, horizontal_flip=True, zoom_range=.1)\n",
    "test_generator = ImageDataGenerator(rotation_range=2, horizontal_flip= True, zoom_range=.1)\n",
    "\n",
    "#Fitting the augmentation defined above to the data\n",
    "train_generator.fit(x_train)\n",
    "val_generator.fit(x_validation)\n",
    "test_generator.fit(x_test)"
   ]
  },
  {
   "cell_type": "markdown",
   "id": "described-sigma",
   "metadata": {},
   "source": [
    "#### Initializing the hyperparameters"
   ]
  },
  {
   "cell_type": "code",
   "execution_count": 19,
   "id": "small-tunisia",
   "metadata": {},
   "outputs": [
    {
     "name": "stderr",
     "output_type": "stream",
     "text": [
      "C:\\Users\\Sirzesx\\anaconda3\\lib\\site-packages\\tensorflow\\python\\keras\\optimizer_v2\\optimizer_v2.py:374: UserWarning: The `lr` argument is deprecated, use `learning_rate` instead.\n",
      "  warnings.warn(\n"
     ]
    }
   ],
   "source": [
    "#Initializing the hyperparameters\n",
    "batch_size= 32\n",
    "epochs=50\n",
    "learn_rate=.0005\n",
    "sgd=SGD(lr=learn_rate,momentum=.9,nesterov=False)\n",
    "adam=Adam(lr=learn_rate, beta_1=0.9, beta_2=0.999, epsilon=None, decay=0.0, amsgrad=False)\n",
    "model.compile(optimizer=sgd, loss='categorical_crossentropy',metrics=['accuracy'])\n",
    "##\"rmsprop\"\n",
    "\n",
    "#Learning Rate Annealer\n",
    "lrr= ReduceLROnPlateau(monitor='val_accuracy', factor=.01, patience=3, min_lr=1e-5)\n",
    "\n",
    "#Stop training when a monitored metric has stopped improving\n",
    "EStop=EarlyStopping(monitor='val_accuracy', patience=3, restore_best_weights=True)\n",
    "\n",
    "#ModelCheckP=ModelCheckpoint(filepath,monitor=\"val_accuracy\",verbose=0,save_best_only=False,save_weights_only=False,\n",
    "#    mode=\"auto\",save_freq=\"epoch\",options=None,**kwargs)"
   ]
  },
  {
   "cell_type": "markdown",
   "id": "d9c626bb",
   "metadata": {},
   "source": [
    "#### Generator image"
   ]
  },
  {
   "cell_type": "code",
   "execution_count": 20,
   "id": "fatal-burst",
   "metadata": {},
   "outputs": [],
   "source": [
    "train_data=train_generator.flow(x_train, y_train, batch_size = batch_size)\n",
    "valid_data=val_generator.flow(x_validation, y_validation, batch_size = batch_size)"
   ]
  },
  {
   "cell_type": "markdown",
   "id": "d146238c",
   "metadata": {},
   "source": [
    "#### Train/val"
   ]
  },
  {
   "cell_type": "code",
   "execution_count": 21,
   "id": "wrapped-marina",
   "metadata": {
    "scrolled": true
   },
   "outputs": [
    {
     "name": "stdout",
     "output_type": "stream",
     "text": [
      "Epoch 1/50\n",
      "23/23 [==============================] - 32s 253ms/step - loss: 3.5347 - accuracy: 0.1756 - val_loss: 1.6564 - val_accuracy: 0.4062\n",
      "Epoch 2/50\n",
      "23/23 [==============================] - 3s 127ms/step - loss: 1.9084 - accuracy: 0.3220 - val_loss: 1.7170 - val_accuracy: 0.2656\n",
      "Epoch 3/50\n",
      "23/23 [==============================] - 3s 126ms/step - loss: 1.6503 - accuracy: 0.3826 - val_loss: 1.3658 - val_accuracy: 0.5312\n",
      "Epoch 4/50\n",
      "23/23 [==============================] - 3s 132ms/step - loss: 1.2020 - accuracy: 0.5720 - val_loss: 1.1204 - val_accuracy: 0.5781\n",
      "Epoch 5/50\n",
      "23/23 [==============================] - 3s 130ms/step - loss: 1.1184 - accuracy: 0.5752 - val_loss: 0.9056 - val_accuracy: 0.6094\n",
      "Epoch 6/50\n",
      "23/23 [==============================] - 3s 132ms/step - loss: 0.9097 - accuracy: 0.6766 - val_loss: 0.8391 - val_accuracy: 0.7031\n",
      "Epoch 7/50\n",
      "23/23 [==============================] - 6s 263ms/step - loss: 0.8124 - accuracy: 0.6981 - val_loss: 0.9539 - val_accuracy: 0.6406\n",
      "Epoch 8/50\n",
      "23/23 [==============================] - 3s 129ms/step - loss: 0.7044 - accuracy: 0.7682 - val_loss: 0.7815 - val_accuracy: 0.6719\n",
      "Epoch 9/50\n",
      "23/23 [==============================] - 3s 126ms/step - loss: 0.7278 - accuracy: 0.7756 - val_loss: 0.8414 - val_accuracy: 0.7031\n",
      "Epoch 10/50\n",
      "23/23 [==============================] - 3s 129ms/step - loss: 0.6070 - accuracy: 0.8017 - val_loss: 0.9189 - val_accuracy: 0.6719\n",
      "Epoch 11/50\n",
      "23/23 [==============================] - 3s 135ms/step - loss: 0.6300 - accuracy: 0.7958 - val_loss: 0.7594 - val_accuracy: 0.7344\n",
      "Epoch 12/50\n",
      "23/23 [==============================] - 3s 127ms/step - loss: 0.5774 - accuracy: 0.7840 - val_loss: 0.9526 - val_accuracy: 0.6562\n",
      "Epoch 13/50\n",
      "23/23 [==============================] - 3s 138ms/step - loss: 0.5360 - accuracy: 0.8145 - val_loss: 0.7214 - val_accuracy: 0.7656\n",
      "Epoch 14/50\n",
      "23/23 [==============================] - 3s 129ms/step - loss: 0.5547 - accuracy: 0.7935 - val_loss: 0.8525 - val_accuracy: 0.7031\n",
      "Epoch 15/50\n",
      "23/23 [==============================] - 3s 131ms/step - loss: 0.5116 - accuracy: 0.8142 - val_loss: 0.8295 - val_accuracy: 0.7031\n",
      "Epoch 16/50\n",
      "23/23 [==============================] - 3s 127ms/step - loss: 0.5532 - accuracy: 0.8034 - val_loss: 0.7329 - val_accuracy: 0.7188\n",
      "Epoch 17/50\n",
      "23/23 [==============================] - 3s 124ms/step - loss: 0.5919 - accuracy: 0.7930 - val_loss: 0.7950 - val_accuracy: 0.7188\n",
      "Epoch 18/50\n",
      "23/23 [==============================] - 3s 127ms/step - loss: 0.5358 - accuracy: 0.8295 - val_loss: 0.9075 - val_accuracy: 0.6406\n",
      "Epoch 19/50\n",
      "23/23 [==============================] - 3s 128ms/step - loss: 0.4745 - accuracy: 0.8387 - val_loss: 0.7659 - val_accuracy: 0.7188\n",
      "Epoch 20/50\n",
      "23/23 [==============================] - 3s 124ms/step - loss: 0.5576 - accuracy: 0.8023 - val_loss: 0.7803 - val_accuracy: 0.6875\n",
      "Epoch 21/50\n",
      "23/23 [==============================] - 3s 129ms/step - loss: 0.5289 - accuracy: 0.8327 - val_loss: 0.6988 - val_accuracy: 0.7656\n",
      "Epoch 22/50\n",
      "23/23 [==============================] - 3s 124ms/step - loss: 0.5301 - accuracy: 0.8416 - val_loss: 0.8320 - val_accuracy: 0.7031\n",
      "Epoch 23/50\n",
      "23/23 [==============================] - 3s 124ms/step - loss: 0.5786 - accuracy: 0.8252 - val_loss: 0.7945 - val_accuracy: 0.7031\n",
      "Epoch 24/50\n",
      "23/23 [==============================] - 3s 127ms/step - loss: 0.5586 - accuracy: 0.8053 - val_loss: 0.8700 - val_accuracy: 0.7188\n",
      "Epoch 25/50\n",
      "23/23 [==============================] - 3s 125ms/step - loss: 0.5831 - accuracy: 0.8032 - val_loss: 0.7917 - val_accuracy: 0.7188\n",
      "Epoch 26/50\n",
      "23/23 [==============================] - 3s 128ms/step - loss: 0.5966 - accuracy: 0.8174 - val_loss: 0.8928 - val_accuracy: 0.6250\n",
      "Epoch 27/50\n",
      "23/23 [==============================] - 3s 127ms/step - loss: 0.4889 - accuracy: 0.8371 - val_loss: 0.8687 - val_accuracy: 0.6875\n",
      "Epoch 28/50\n",
      "23/23 [==============================] - 3s 128ms/step - loss: 0.4219 - accuracy: 0.8496 - val_loss: 0.7311 - val_accuracy: 0.7344\n",
      "Epoch 29/50\n",
      "23/23 [==============================] - 3s 124ms/step - loss: 0.5513 - accuracy: 0.8257 - val_loss: 0.8578 - val_accuracy: 0.7500\n",
      "Epoch 30/50\n",
      "23/23 [==============================] - 3s 124ms/step - loss: 0.5241 - accuracy: 0.8009 - val_loss: 0.8377 - val_accuracy: 0.7031\n",
      "Epoch 31/50\n",
      "23/23 [==============================] - 3s 128ms/step - loss: 0.5432 - accuracy: 0.8412 - val_loss: 0.7239 - val_accuracy: 0.7188\n",
      "Epoch 32/50\n",
      "23/23 [==============================] - 3s 127ms/step - loss: 0.4997 - accuracy: 0.8346 - val_loss: 0.7313 - val_accuracy: 0.7344\n",
      "Epoch 33/50\n",
      "23/23 [==============================] - 3s 125ms/step - loss: 0.5640 - accuracy: 0.8174 - val_loss: 0.6764 - val_accuracy: 0.7188\n",
      "Epoch 34/50\n",
      "23/23 [==============================] - 3s 126ms/step - loss: 0.5411 - accuracy: 0.8171 - val_loss: 0.8078 - val_accuracy: 0.6875\n",
      "Epoch 35/50\n",
      "23/23 [==============================] - 3s 125ms/step - loss: 0.5079 - accuracy: 0.8263 - val_loss: 0.8358 - val_accuracy: 0.7031\n",
      "Epoch 36/50\n",
      "23/23 [==============================] - 3s 124ms/step - loss: 0.5121 - accuracy: 0.8005 - val_loss: 0.7778 - val_accuracy: 0.7031\n",
      "Epoch 37/50\n",
      "23/23 [==============================] - 3s 127ms/step - loss: 0.4578 - accuracy: 0.8519 - val_loss: 0.7365 - val_accuracy: 0.7344\n",
      "Epoch 38/50\n",
      "23/23 [==============================] - 3s 125ms/step - loss: 0.4535 - accuracy: 0.8373 - val_loss: 0.7600 - val_accuracy: 0.6719\n",
      "Epoch 39/50\n",
      "23/23 [==============================] - 3s 126ms/step - loss: 0.4662 - accuracy: 0.8266 - val_loss: 0.7872 - val_accuracy: 0.7344\n",
      "Epoch 40/50\n",
      "23/23 [==============================] - 3s 125ms/step - loss: 0.5185 - accuracy: 0.8312 - val_loss: 0.7505 - val_accuracy: 0.7031\n",
      "Epoch 41/50\n",
      "23/23 [==============================] - 3s 127ms/step - loss: 0.5413 - accuracy: 0.8149 - val_loss: 0.6962 - val_accuracy: 0.7188\n",
      "Epoch 42/50\n",
      "23/23 [==============================] - 3s 125ms/step - loss: 0.5113 - accuracy: 0.8199 - val_loss: 0.7149 - val_accuracy: 0.7500\n",
      "Epoch 43/50\n",
      "23/23 [==============================] - 3s 133ms/step - loss: 0.5221 - accuracy: 0.7997 - val_loss: 0.7626 - val_accuracy: 0.7969\n",
      "Epoch 44/50\n",
      "23/23 [==============================] - 3s 131ms/step - loss: 0.4674 - accuracy: 0.8280 - val_loss: 0.6819 - val_accuracy: 0.7500\n",
      "Epoch 45/50\n",
      "23/23 [==============================] - 3s 125ms/step - loss: 0.4501 - accuracy: 0.8531 - val_loss: 0.7948 - val_accuracy: 0.7031\n",
      "Epoch 46/50\n",
      "23/23 [==============================] - 3s 130ms/step - loss: 0.4980 - accuracy: 0.8179 - val_loss: 0.8714 - val_accuracy: 0.6875\n",
      "Epoch 47/50\n",
      "23/23 [==============================] - 3s 125ms/step - loss: 0.4664 - accuracy: 0.8477 - val_loss: 0.8042 - val_accuracy: 0.7031\n",
      "Epoch 48/50\n",
      "23/23 [==============================] - 3s 131ms/step - loss: 0.4821 - accuracy: 0.8519 - val_loss: 0.7379 - val_accuracy: 0.7500\n",
      "Epoch 49/50\n",
      "23/23 [==============================] - 3s 134ms/step - loss: 0.5072 - accuracy: 0.8369 - val_loss: 0.7221 - val_accuracy: 0.7344\n",
      "Epoch 50/50\n",
      "23/23 [==============================] - 3s 125ms/step - loss: 0.4327 - accuracy: 0.8523 - val_loss: 0.7133 - val_accuracy: 0.7812\n"
     ]
    }
   ],
   "source": [
    "history=model.fit(train_data, epochs=epochs, steps_per_epoch = len(x_train)//batch_size, validation_data=valid_data, validation_steps=len(x_validation)//batch_size, verbose=1, callbacks = [lrr])\n",
    "\n",
    "#history = model.fit(x=x_train, y=y_train, epochs=epochs, steps_per_epoch=len(x_train)//batch_size, validation_data = (x_validation, y_validation), validation_steps = 250, callbacks=[lrr], verbose = 1)"
   ]
  },
  {
   "cell_type": "code",
   "execution_count": 22,
   "id": "directed-passing",
   "metadata": {},
   "outputs": [
    {
     "name": "stdout",
     "output_type": "stream",
     "text": [
      "Model: \"sequential\"\n",
      "_________________________________________________________________\n",
      "Layer (type)                 Output Shape              Param #   \n",
      "=================================================================\n",
      "module_wrapper (ModuleWrappe (None, 4, 4, 2048)        23587712  \n",
      "_________________________________________________________________\n",
      "flatten (Flatten)            (None, 32768)             0         \n",
      "_________________________________________________________________\n",
      "dense (Dense)                (None, 512)               16777728  \n",
      "_________________________________________________________________\n",
      "dense_1 (Dense)              (None, 256)               131328    \n",
      "_________________________________________________________________\n",
      "dropout (Dropout)            (None, 256)               0         \n",
      "_________________________________________________________________\n",
      "dense_2 (Dense)              (None, 128)               32896     \n",
      "_________________________________________________________________\n",
      "dropout_1 (Dropout)          (None, 128)               0         \n",
      "_________________________________________________________________\n",
      "dense_3 (Dense)              (None, 7)                 903       \n",
      "=================================================================\n",
      "Total params: 40,530,567\n",
      "Trainable params: 40,477,447\n",
      "Non-trainable params: 53,120\n",
      "_________________________________________________________________\n"
     ]
    }
   ],
   "source": [
    "model.summary()"
   ]
  },
  {
   "cell_type": "code",
   "execution_count": 23,
   "id": "minor-electricity",
   "metadata": {},
   "outputs": [
    {
     "data": {
      "text/plain": [
       "[<matplotlib.lines.Line2D at 0x1790eb7a370>]"
      ]
     },
     "execution_count": 23,
     "metadata": {},
     "output_type": "execute_result"
    },
    {
     "data": {
      "image/png": "[encoded data removed]",
      "text/plain": [
       "<Figure size 432x288 with 2 Axes>"
      ]
     },
     "metadata": {
      "needs_background": "light"
     },
     "output_type": "display_data"
    }
   ],
   "source": [
    "#Plotting the training and validation loss\n",
    "f,ax=plt.subplots(2,1) #Creates 2 subplots under 1 column\n",
    "#Training loss and validation loss\n",
    "ax[0].plot(model.history.history['loss'],color='b',label='Training Loss')\n",
    "ax[0].plot(model.history.history['val_loss'],color='r',label='Validation Loss')\n",
    "#Training accuracy and validation accuracy\n",
    "ax[1].plot(model.history.history['accuracy'],color='b',label='Training  Accuracy')\n",
    "ax[1].plot(model.history.history['val_accuracy'],color='r',label='Validation Accuracy')\n"
   ]
  },
  {
   "cell_type": "code",
   "execution_count": 24,
   "id": "connected-mountain",
   "metadata": {},
   "outputs": [
    {
     "data": {
      "text/plain": [
       "array(['Baby Care', 'Beauty and Personal Care', 'Computers',\n",
       "       'Home Decor & Festive Needs', 'Home Furnishing',\n",
       "       'Kitchen & Dining', 'Watches'], dtype=object)"
      ]
     },
     "execution_count": 24,
     "metadata": {},
     "output_type": "execute_result"
    }
   ],
   "source": [
    "class_list=[thing for thing in range(7)]\n",
    "class_list=le.inverse_transform(class_list)\n",
    "class_list"
   ]
  },
  {
   "cell_type": "code",
   "execution_count": 25,
   "id": "comfortable-anaheim",
   "metadata": {},
   "outputs": [
    {
     "name": "stdout",
     "output_type": "stream",
     "text": [
      "Predicted: 6 :  0.31519943\n",
      "Reel: 7\n"
     ]
    }
   ],
   "source": [
    "x = x_test[50]\n",
    "x = np.expand_dims(x, axis=0)\n",
    "x = preprocess_input(x)\n",
    "preds = model.predict(x)\n",
    "\n",
    "# decode the results into a list of tuples (class, description, probability)\n",
    "print('Predicted:', preds.argmax()+1, \": \", preds.max())\n",
    "print('Reel:',y_test[50].argmax()+1)"
   ]
  },
  {
   "cell_type": "markdown",
   "id": "atomic-signal",
   "metadata": {},
   "source": [
    "#### Test data "
   ]
  },
  {
   "cell_type": "code",
   "execution_count": 26,
   "id": "damaged-vertical",
   "metadata": {},
   "outputs": [
    {
     "name": "stdout",
     "output_type": "stream",
     "text": [
      "Evaluate on test data\n",
      "2/2 [==============================] - 3s 621ms/step - loss: 0.6044 - accuracy: 0.8238\n",
      "test loss, test acc: [0.6043522953987122, 0.8238095045089722]\n"
     ]
    }
   ],
   "source": [
    "# Evaluate the model on the test data using `evaluate`\n",
    "print(\"Evaluate on test data\")\n",
    "results = model.evaluate(x_test, y_test, batch_size=128)\n",
    "print(\"test loss, test acc:\", results)"
   ]
  },
  {
   "cell_type": "code",
   "execution_count": null,
   "id": "incorrect-collective",
   "metadata": {},
   "outputs": [],
   "source": []
  },
  {
   "cell_type": "code",
   "execution_count": 27,
   "id": "incredible-tolerance",
   "metadata": {},
   "outputs": [],
   "source": [
    "labels=[]\n",
    "for i in range(7):\n",
    "    labels.append(i)"
   ]
  },
  {
   "cell_type": "code",
   "execution_count": 28,
   "id": "provincial-slope",
   "metadata": {},
   "outputs": [],
   "source": [
    "def predict_image_class(image):\n",
    "    #img = Image.open('Images/'+df.image[i]).resize((128, 128), Image.ANTIALIAS)\n",
    "    #create img array matrix\n",
    "    x= np.array(image)\n",
    "    #expand the dims of the shape (1,2)=> (1,1,2)\n",
    "    x = np.expand_dims(x, axis=0)\n",
    "    #preprocess Transfert Learning by ResNet\n",
    "    x = preprocess_input(x)\n",
    "    preds = model.predict(x)\n",
    "    return {class_list[i]: float(preds[0][i]) for i in range(7)}"
   ]
  },
  {
   "cell_type": "code",
   "execution_count": 29,
   "id": "divine-opening",
   "metadata": {
    "scrolled": false
   },
   "outputs": [
    {
     "name": "stdout",
     "output_type": "stream",
     "text": [
      "Running locally at: http://127.0.0.1:7860/\n",
      "This share link will expire in 24 hours. If you need a permanent link, visit: https://gradio.app/introducing-hosted (NEW!)\n",
      "Running on External URL: https://39241.gradio.app\n",
      "Interface loading below...\n"
     ]
    },
    {
     "data": {
      "text/html": [
       "\n",
       "        <iframe\n",
       "            width=\"900\"\n",
       "            height=\"500\"\n",
       "            src=\"https://39241.gradio.app\"\n",
       "            frameborder=\"0\"\n",
       "            allowfullscreen\n",
       "        ></iframe>\n",
       "        "
      ],
      "text/plain": [
       "<IPython.lib.display.IFrame at 0x179347c7f70>"
      ]
     },
     "metadata": {},
     "output_type": "display_data"
    },
    {
     "data": {
      "text/plain": [
       "(<Flask 'gradio.networking'>,\n",
       " 'http://127.0.0.1:7860/',\n",
       " 'https://39241.gradio.app')"
      ]
     },
     "execution_count": 29,
     "metadata": {},
     "output_type": "execute_result"
    }
   ],
   "source": [
    "import gradio as gr\n",
    "import numpy as np\n",
    "\n",
    "image = gr.inputs.Image(shape=(128, 128))\n",
    "label = gr.outputs.Label(num_top_classes=7)\n",
    "\n",
    "gr.Interface(fn=predict_image_class, inputs=image, outputs=label, capture_session=True).launch(share=True)"
   ]
  },
  {
   "cell_type": "code",
   "execution_count": null,
   "id": "discrete-vegetable",
   "metadata": {},
   "outputs": [],
   "source": []
  },
  {
   "cell_type": "code",
   "execution_count": null,
   "id": "narrative-cholesterol",
   "metadata": {},
   "outputs": [],
   "source": []
  },
  {
   "cell_type": "code",
   "execution_count": null,
   "id": "hearing-basis",
   "metadata": {},
   "outputs": [],
   "source": []
  },
  {
   "cell_type": "code",
   "execution_count": null,
   "id": "recorded-findings",
   "metadata": {},
   "outputs": [],
   "source": []
  },
  {
   "cell_type": "code",
   "execution_count": null,
   "id": "international-western",
   "metadata": {},
   "outputs": [],
   "source": []
  },
  {
   "cell_type": "code",
   "execution_count": null,
   "id": "incorporate-construction",
   "metadata": {},
   "outputs": [],
   "source": []
  },
  {
   "cell_type": "code",
   "execution_count": null,
   "id": "blond-bridge",
   "metadata": {},
   "outputs": [],
   "source": []
  },
  {
   "cell_type": "code",
   "execution_count": null,
   "id": "caring-medicine",
   "metadata": {},
   "outputs": [],
   "source": []
  },
  {
   "cell_type": "code",
   "execution_count": null,
   "id": "important-approval",
   "metadata": {},
   "outputs": [],
   "source": []
  },
  {
   "cell_type": "code",
   "execution_count": null,
   "id": "perfect-undergraduate",
   "metadata": {},
   "outputs": [],
   "source": []
  },
  {
   "cell_type": "code",
   "execution_count": null,
   "id": "figured-loading",
   "metadata": {},
   "outputs": [],
   "source": []
  },
  {
   "cell_type": "code",
   "execution_count": null,
   "id": "outside-china",
   "metadata": {},
   "outputs": [],
   "source": []
  },
  {
   "cell_type": "code",
   "execution_count": null,
   "id": "honey-carol",
   "metadata": {},
   "outputs": [],
   "source": []
  }
 ],
 "metadata": {
  "kernelspec": {
   "display_name": "Python 3",
   "language": "python",
   "name": "python3"
  },
  "language_info": {
   "codemirror_mode": {
    "name": "ipython",
    "version": 3
   },
   "file_extension": ".py",
   "mimetype": "text/x-python",
   "name": "python",
   "nbconvert_exporter": "python",
   "pygments_lexer": "ipython3",
   "version": "3.8.8"
  }
 },
 "nbformat": 4,
 "nbformat_minor": 5
}
